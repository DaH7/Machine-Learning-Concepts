{
  "nbformat": 4,
  "nbformat_minor": 0,
  "metadata": {
    "colab": {
      "provenance": [],
      "authorship_tag": "ABX9TyNYtTD2FujaMt4CzRNskqGf",
      "include_colab_link": true
    },
    "kernelspec": {
      "name": "python3",
      "display_name": "Python 3"
    },
    "language_info": {
      "name": "python"
    }
  },
  "cells": [
    {
      "cell_type": "markdown",
      "metadata": {
        "id": "view-in-github",
        "colab_type": "text"
      },
      "source": [
        "<a href=\"https://colab.research.google.com/github/DaH7/Machine-Learning-Concepts/blob/main/Pytorch__Workflow.ipynb\" target=\"_parent\"><img src=\"https://colab.research.google.com/assets/colab-badge.svg\" alt=\"Open In Colab\"/></a>"
      ]
    },
    {
      "cell_type": "markdown",
      "source": [
        "Pytorch Workflow\n",
        "\n",
        "Exploring Pytorch end to end workflow"
      ],
      "metadata": {
        "id": "CJuj2jBvCBlz"
      }
    },
    {
      "cell_type": "code",
      "execution_count": null,
      "metadata": {
        "colab": {
          "base_uri": "https://localhost:8080/",
          "height": 35
        },
        "id": "9qKpHJywBYjZ",
        "outputId": "c4ab7240-795f-4076-99c1-de1b8a4d6850"
      },
      "outputs": [
        {
          "output_type": "execute_result",
          "data": {
            "text/plain": [
              "'2.3.0+cu121'"
            ],
            "application/vnd.google.colaboratory.intrinsic+json": {
              "type": "string"
            }
          },
          "metadata": {},
          "execution_count": 1
        }
      ],
      "source": [
        "import torch\n",
        "from torch import nn # contrains all building block for neural networks\n",
        "import matplotlib.pyplot as plt\n",
        "import numpy as np\n",
        "\n",
        "\n",
        "#check Pytorch version\n",
        "torch.__version__"
      ]
    },
    {
      "cell_type": "markdown",
      "source": [
        "1. Data (preparing and loading)\n",
        "\n",
        "ML is a game with 2 parts\n",
        "1. get data into numerical represnetation\n",
        "2. Build a model to learn patterns in that numerical representation\n",
        "\n",
        "Linear regression formula with known parameters\n"
      ],
      "metadata": {
        "id": "04073KqqDsri"
      }
    },
    {
      "cell_type": "code",
      "source": [
        "#create known parameters\n",
        "weight = 0.7\n",
        "bias = 0.3\n",
        "\n",
        "#create\n",
        "start = 0\n",
        "end = 1\n",
        "step = 0.02\n",
        "X = torch.arange(start, end, step). unsqueeze(dim=1)\n",
        "y = weight * X + bias\n",
        "\n",
        "X[:10], y[:10], len(X), len(y)"
      ],
      "metadata": {
        "colab": {
          "base_uri": "https://localhost:8080/"
        },
        "id": "Q3z-DtW0DOj6",
        "outputId": "1064da22-d823-4bc9-ce21-3b0936bd8013"
      },
      "execution_count": null,
      "outputs": [
        {
          "output_type": "execute_result",
          "data": {
            "text/plain": [
              "(tensor([[0.0000],\n",
              "         [0.0200],\n",
              "         [0.0400],\n",
              "         [0.0600],\n",
              "         [0.0800],\n",
              "         [0.1000],\n",
              "         [0.1200],\n",
              "         [0.1400],\n",
              "         [0.1600],\n",
              "         [0.1800]]),\n",
              " tensor([[0.3000],\n",
              "         [0.3140],\n",
              "         [0.3280],\n",
              "         [0.3420],\n",
              "         [0.3560],\n",
              "         [0.3700],\n",
              "         [0.3840],\n",
              "         [0.3980],\n",
              "         [0.4120],\n",
              "         [0.4260]]),\n",
              " 50,\n",
              " 50)"
            ]
          },
          "metadata": {},
          "execution_count": 2
        }
      ]
    },
    {
      "cell_type": "markdown",
      "source": [
        "Splitting data into training and test sets (one of the most important concepts in ML)"
      ],
      "metadata": {
        "id": "6IJjslpNI0tC"
      }
    },
    {
      "cell_type": "code",
      "source": [
        "#create a train/test split\n",
        "train_split = int(0.8 * len(X))\n",
        "X_train, y_train = X[:train_split], y[:train_split]\n",
        "X_test, y_test = X[train_split:], y[train_split:]\n",
        "\n",
        "len(X_train), len(y_train), len(X_test), len(y_test)"
      ],
      "metadata": {
        "colab": {
          "base_uri": "https://localhost:8080/"
        },
        "id": "rAJQ_4XFH6AU",
        "outputId": "6cb3c576-0ca3-43f6-e30d-3b03f3915d90"
      },
      "execution_count": null,
      "outputs": [
        {
          "output_type": "execute_result",
          "data": {
            "text/plain": [
              "(40, 40, 10, 10)"
            ]
          },
          "metadata": {},
          "execution_count": 3
        }
      ]
    },
    {
      "cell_type": "markdown",
      "source": [
        "How might we better visualize our data?\n",
        "\n",
        "\"Visualize, Visualize , Visualize!\""
      ],
      "metadata": {
        "id": "0dZBjs55LVQO"
      }
    },
    {
      "cell_type": "code",
      "source": [
        "def plot_prediction(train_data = X_train,\n",
        "                    train_labels= y_train,\n",
        "                    test_data = X_test,\n",
        "                    test_labels= y_test,\n",
        "                    predictions=None):\n",
        "\n",
        "  #plots training data, test data, and compares predictions.\n",
        "\n",
        "  plt.figure(figsize=(10,7))\n",
        "\n",
        "  #plot training data in blue\n",
        "  plt.scatter(train_data, train_labels, c = \"b\", s = 4, label = \"Training data\")\n",
        "\n",
        "  #plot test data in green\n",
        "  plt.scatter(test_data, test_labels, c=\"g\",s=4,label=\"Testing data\")\n",
        "\n",
        "  # are there predictions?\n",
        "  if predictions is not None:\n",
        "    #plot predictions if they exist\n",
        "    plt.scatter(test_data, predictions,c=\"r\",s=4,label=\"Predictions\")\n",
        "\n",
        "  #Show legend\n",
        "  plt.legend();\n",
        "\n"
      ],
      "metadata": {
        "id": "Ug3GJgwRIUzi"
      },
      "execution_count": null,
      "outputs": []
    },
    {
      "cell_type": "code",
      "source": [
        "plot_prediction();"
      ],
      "metadata": {
        "colab": {
          "base_uri": "https://localhost:8080/",
          "height": 599
        },
        "id": "ST3ZHTSdMzFj",
        "outputId": "a88f36ff-7b3c-4f9e-f4f4-b18c8bbab940"
      },
      "execution_count": null,
      "outputs": [
        {
          "output_type": "display_data",
          "data": {
            "text/plain": [
              "<Figure size 1000x700 with 1 Axes>"
            ],
            "image/png": "[encoded data removed]"
          },
          "metadata": {}
        }
      ]
    },
    {
      "cell_type": "markdown",
      "source": [
        "2. Build model\n",
        "\n",
        "1.Start with random values (weight and bias)\n",
        "\n",
        "2.Look at training data and adjust the random values to better represent (or get close to) ideal values ( weight and bias values we used to create data)\n",
        "\n",
        "\n",
        "Does it through 2 main algorithms:\n",
        "\n",
        "1.Gradient decent\n",
        "\n",
        "2.Backpropagation"
      ],
      "metadata": {
        "id": "nf5zf9EHPd15"
      }
    },
    {
      "cell_type": "code",
      "source": [
        "#create linear regression model class\n",
        "from torch import nn\n",
        "\n",
        "class LinearRegressionModel(nn.Module): #almost everything in pytorch inherhits from nn.Module\n",
        "  def __init__(self):\n",
        "    super().__init__()\n",
        "    #Initialize model parameters\n",
        "    self.weight = nn.Parameter(torch.randn(1, #start with random weight and try to adjust it to ideal weight\n",
        "                                            requires_grad=True,\n",
        "                                            dtype=torch.float))\n",
        "    self.bias = nn.Parameter(torch.randn(1, #start with random bias and try to adjust to ideal bias\n",
        "                                         requires_grad=True,\n",
        "                                         dtype=torch.float))\n",
        "\n",
        "  #forward method to define computation in model\n",
        "  def forward(self, x:torch.Tensor) -> torch.Tensor: #\"x\" is the input data\n",
        "    return self.weight * x + self.bias # this is the linear regression formula"
      ],
      "metadata": {
        "id": "1mIWNuZOM5UP"
      },
      "execution_count": null,
      "outputs": []
    },
    {
      "cell_type": "markdown",
      "source": [
        "PyTorch model building essentials\n",
        "\n",
        "1. torch.nn - conatians all building for computational graphs ( a nueral network is consider as a computational graph\n",
        "2. torch.nn.Parameter - what parameters should our model try and learn, often a pytorch layer from torch.nn wukk set these for us\n",
        "3. torch.nn.Module - base class for all neural network modules, if you subclass it, you should overwrite forward()\n",
        "4. torch.optim - this where optimizers in pythorch live, they will help with gradient descent\n",
        "5. def forward() - all nn.Module subclasses require you to overwrite forward(), this method defines what happens in the forward computation"
      ],
      "metadata": {
        "id": "4PdAYkVttkdY"
      }
    },
    {
      "cell_type": "markdown",
      "source": [
        "Checking contents of model\n",
        "\n",
        "Let's see whats inside of model created\n",
        "\n",
        "so we can check our model parameters or what's inside our model using .paramaters()"
      ],
      "metadata": {
        "id": "BImBBpJfwnXp"
      }
    },
    {
      "cell_type": "code",
      "source": [
        "#create random seed, make  it repeatable\n",
        "torch.manual_seed(42)\n",
        "\n",
        "#create instance of model (subclass of nn.module)\n",
        "model_0 = LinearRegressionModel()\n",
        "\n",
        "#check out the paramters\n",
        "list(model_0.parameters())"
      ],
      "metadata": {
        "colab": {
          "base_uri": "https://localhost:8080/"
        },
        "id": "MpB0bfGGwma8",
        "outputId": "0539f9b1-1161-46b0-cc69-e90f44cd29e0"
      },
      "execution_count": null,
      "outputs": [
        {
          "output_type": "execute_result",
          "data": {
            "text/plain": [
              "[Parameter containing:\n",
              " tensor([0.3367], requires_grad=True),\n",
              " Parameter containing:\n",
              " tensor([0.1288], requires_grad=True)]"
            ]
          },
          "metadata": {},
          "execution_count": 7
        }
      ]
    },
    {
      "cell_type": "code",
      "source": [
        "# List namned parameters\n",
        "model_0.state_dict()"
      ],
      "metadata": {
        "colab": {
          "base_uri": "https://localhost:8080/"
        },
        "id": "ONGzkURXxbdg",
        "outputId": "85ec1a40-e43c-4a57-e521-78d45351d37c"
      },
      "execution_count": null,
      "outputs": [
        {
          "output_type": "execute_result",
          "data": {
            "text/plain": [
              "OrderedDict([('weight', tensor([0.3367])), ('bias', tensor([0.1288]))])"
            ]
          },
          "metadata": {},
          "execution_count": 8
        }
      ]
    },
    {
      "cell_type": "markdown",
      "source": [
        "### Making Prediction using `torch.inference_mode()`\n",
        "\n",
        "To check model's predictive power, let's see how well it predicts `y_test` based on `X_test`.\n",
        "\n",
        "When we pass data through our model, it is going to run it through the `foward()` method."
      ],
      "metadata": {
        "id": "nzZiMhnjIOJf"
      }
    },
    {
      "cell_type": "code",
      "source": [
        "#make prediction with model\n",
        "\n",
        "with torch.inference_mode(): #can also use torch.no_grad(), but torch.inference_mode() is preferred\n",
        "  y_preds=model_0(X_test)\n",
        "\n",
        "y_preds"
      ],
      "metadata": {
        "colab": {
          "base_uri": "https://localhost:8080/"
        },
        "id": "di2fR0fsx2xt",
        "outputId": "7616d6b3-55fc-48c0-f7f8-159efebc1990"
      },
      "execution_count": null,
      "outputs": [
        {
          "output_type": "execute_result",
          "data": {
            "text/plain": [
              "tensor([[0.3982],\n",
              "        [0.4049],\n",
              "        [0.4116],\n",
              "        [0.4184],\n",
              "        [0.4251],\n",
              "        [0.4318],\n",
              "        [0.4386],\n",
              "        [0.4453],\n",
              "        [0.4520],\n",
              "        [0.4588]])"
            ]
          },
          "metadata": {},
          "execution_count": 9
        }
      ]
    },
    {
      "cell_type": "code",
      "source": [
        "y_test"
      ],
      "metadata": {
        "colab": {
          "base_uri": "https://localhost:8080/"
        },
        "id": "_--yZSpvyCMN",
        "outputId": "36d65667-51a2-49de-ed95-5b43d40d30fd"
      },
      "execution_count": null,
      "outputs": [
        {
          "output_type": "execute_result",
          "data": {
            "text/plain": [
              "tensor([[0.8600],\n",
              "        [0.8740],\n",
              "        [0.8880],\n",
              "        [0.9020],\n",
              "        [0.9160],\n",
              "        [0.9300],\n",
              "        [0.9440],\n",
              "        [0.9580],\n",
              "        [0.9720],\n",
              "        [0.9860]])"
            ]
          },
          "metadata": {},
          "execution_count": 10
        }
      ]
    },
    {
      "cell_type": "code",
      "source": [
        "plot_prediction(predictions=y_preds)"
      ],
      "metadata": {
        "colab": {
          "base_uri": "https://localhost:8080/",
          "height": 599
        },
        "id": "pJxidGevJkAP",
        "outputId": "30480354-b9d0-4e09-be4c-07632690461b"
      },
      "execution_count": null,
      "outputs": [
        {
          "output_type": "display_data",
          "data": {
            "text/plain": [
              "<Figure size 1000x700 with 1 Axes>"
            ],
            "image/png": "[encoded data removed]"
          },
          "metadata": {}
        }
      ]
    },
    {
      "cell_type": "markdown",
      "source": [
        "### 3. Train model\n",
        "\n",
        "Whole point of training model is to move from \"unknown\" parameters to (may be random) to \"known\" parameters\n",
        "\n",
        "or from poor representation of data to a better representation of that data\n",
        "\n",
        "\n",
        "One way to measure how poor or how wrong models prediction are is to use a loss function\n",
        "\n",
        "* Note: Loss function may also be called cost function or criterion in different areas. For our case, we're going to refer to it as a loss function.\n",
        "\n",
        "Things we need to train:\n",
        "\n",
        "* **Loss function:** function to measure how wrong your model's predictino are from the expected output, Lower number for this is better.\n",
        "\n",
        "* **Optimizer:** Takes into account the loss of a model and adjusts the model's parameters (e.g. weight and bias) to improve loss function\n",
        "\n",
        "inside optimizers, you'll need to set up 2 paramenters:\n",
        "* `params` - model parameters you'd like to optimize, ex: `params=model_0.parameters()`\n",
        "*`lr` (learning rate) - learning rate is hyperparameter that defines how big or small the opimizer chanes the parameters with each step (a small `lr` results in small change, a large `lr` results in large changes\n",
        "\n",
        "\n",
        "\n",
        "and specifically for pytorch, we need:\n",
        "* A training loop\n",
        "* a test loop\n"
      ],
      "metadata": {
        "id": "Md-ydhFVBsRy"
      }
    },
    {
      "cell_type": "code",
      "source": [
        "list(model_0.parameters())"
      ],
      "metadata": {
        "id": "YjBCFIfDJqF0",
        "colab": {
          "base_uri": "https://localhost:8080/"
        },
        "outputId": "a5a15ba6-9d6d-4c2e-b6a9-4d3087146d4f"
      },
      "execution_count": null,
      "outputs": [
        {
          "output_type": "execute_result",
          "data": {
            "text/plain": [
              "[Parameter containing:\n",
              " tensor([0.3367], requires_grad=True),\n",
              " Parameter containing:\n",
              " tensor([0.1288], requires_grad=True)]"
            ]
          },
          "metadata": {},
          "execution_count": 12
        }
      ]
    },
    {
      "cell_type": "code",
      "source": [
        "#check out our model's parameters (a parameter is a value that the model sets itself)\n",
        "model_0.state_dict()"
      ],
      "metadata": {
        "colab": {
          "base_uri": "https://localhost:8080/"
        },
        "id": "slZs4nluD4pE",
        "outputId": "310a7909-0955-4f7b-9eb1-06e72bc90cf5"
      },
      "execution_count": null,
      "outputs": [
        {
          "output_type": "execute_result",
          "data": {
            "text/plain": [
              "OrderedDict([('weight', tensor([0.3367])), ('bias', tensor([0.1288]))])"
            ]
          },
          "metadata": {},
          "execution_count": 13
        }
      ]
    },
    {
      "cell_type": "code",
      "source": [
        "# setup a loss function\n",
        "loss_fn = nn.L1Loss()\n",
        "\n",
        "# setup an optimizer (stochastic gradient descent)\n",
        "optimizer = torch.optim.SGD(model_0.parameters(),\n",
        "                            lr = 0.01) # lr = learning rate = most important hyperparameter you can set.\n"
      ],
      "metadata": {
        "id": "mejsNzUrEAEs"
      },
      "execution_count": null,
      "outputs": []
    },
    {
      "cell_type": "markdown",
      "source": [
        "###Building training loop (and testing loop) in pytorch\n",
        "\n",
        "A couple of things we need in a training loop:\n",
        "0. loop through the data and do...\n",
        "1. forward pass (involves data moving through  our model's `forward()` functions) to make predictions on data - also called forward propagation\n",
        "2. calculate the loss  (compare forward pass predictions to ground truth labels)\n",
        "3. opitmizer zero grad\n",
        "4. loss backward - move backwards through the network to calculate the graidents of each of the parameters of our model with respect to loss\n",
        "5. opitmizer step - use the optimizer to adjust our model's parameters to try and improve our loss (gradient descent)"
      ],
      "metadata": {
        "id": "8gmk6PRyL536"
      }
    },
    {
      "cell_type": "code",
      "source": [
        "#an epoch is one loop through the data.. (this is hyperparameters because we set it ourself)\n",
        "torch.manual_seed(42)\n",
        "\n",
        "epochs = 200\n",
        "\n",
        "epoch_count = []\n",
        "loss_values = []\n",
        "test_loss_values = []\n",
        "\n",
        "### Training\n",
        "#0. loop through the data\n",
        "\n",
        "for epoch in range(epochs):\n",
        "  # set the model to training mode\n",
        "  model_0.train() # train mode in pytorch set all parameters that require gradients to require gradients\n",
        "\n",
        "  #1. forward pass\n",
        "  y_pred = model_0(X_train)\n",
        "\n",
        "  #2. Calculate the loss\n",
        "  loss = loss_fn(y_pred,y_train)\n",
        "  print(f\"Loss:{loss}\")\n",
        "\n",
        "  #3. opimizer zero grad\n",
        "  optimizer.zero_grad()\n",
        "\n",
        "\n",
        "  #4. Perform backpropagation on the loss with respect to the parameters of the model\n",
        "  loss.backward()\n",
        "\n",
        "  #5. step the optimizer (perform gradient descent)\n",
        "  optimizer.step() # by default how the optimizer changes will acclumate through the loop so.. we have to zero them above in step 3 for the next iteration of the loop\n",
        "\n",
        "\n",
        "  #Testing\n",
        "  model_0.eval() #turns off gradient tracking\n",
        "  with torch.inference_mode(): # turns off gradient tracking nad a couple more things behind the scene\n",
        "\n",
        "  # with torch.no_grad(): # you may also see torch.no_grad() in older PyTorch code\n",
        "\n",
        "    #1. Do the forward pass\n",
        "    test_pred = model_0(X_test)\n",
        "\n",
        "    #2 calculate test loss\n",
        "    test_loss = loss_fn(test_pred,y_test)\n",
        "\n",
        "  # print out what's happening\n",
        "  if epoch % 10 == 0:\n",
        "\n",
        "    epoch_count.append(epoch)\n",
        "    loss_values.append(loss)\n",
        "    test_loss_values.append(test_loss)\n",
        "\n",
        "    print(f\"Epoch: {epoch} | Test: {loss} | Test loss : {test_loss}\")\n",
        "\n",
        "    # print model state_dicct()\n",
        "    print(model_0.state_dict())\n"
      ],
      "metadata": {
        "id": "KoV3GyBZFd9B",
        "colab": {
          "base_uri": "https://localhost:8080/"
        },
        "outputId": "4929de71-b6bd-40f0-dacc-4277620b588b"
      },
      "execution_count": null,
      "outputs": [
        {
          "output_type": "stream",
          "name": "stdout",
          "text": [
            "Loss:0.31288138031959534\n",
            "Epoch: 0 | Test: 0.31288138031959534 | Test loss : 0.48106518387794495\n",
            "OrderedDict([('weight', tensor([0.3406])), ('bias', tensor([0.1388]))])\n",
            "Loss:0.3013603389263153\n",
            "Loss:0.28983935713768005\n",
            "Loss:0.2783183455467224\n",
            "Loss:0.26679736375808716\n",
            "Loss:0.2552763521671295\n",
            "Loss:0.24375534057617188\n",
            "Loss:0.23223432898521423\n",
            "Loss:0.22071333229541779\n",
            "Loss:0.20919232070446014\n",
            "Loss:0.1976713240146637\n",
            "Epoch: 10 | Test: 0.1976713240146637 | Test loss : 0.3463551998138428\n",
            "OrderedDict([('weight', tensor([0.3796])), ('bias', tensor([0.2388]))])\n",
            "Loss:0.18615034222602844\n",
            "Loss:0.1746293306350708\n",
            "Loss:0.16310831904411316\n",
            "Loss:0.1515873372554779\n",
            "Loss:0.14006635546684265\n",
            "Loss:0.1285453587770462\n",
            "Loss:0.11702437698841095\n",
            "Loss:0.1060912236571312\n",
            "Loss:0.09681284427642822\n",
            "Loss:0.08908725529909134\n",
            "Epoch: 20 | Test: 0.08908725529909134 | Test loss : 0.21729660034179688\n",
            "OrderedDict([('weight', tensor([0.4184])), ('bias', tensor([0.3333]))])\n",
            "Loss:0.08227583020925522\n",
            "Loss:0.07638873159885406\n",
            "Loss:0.07160007208585739\n",
            "Loss:0.06747635453939438\n",
            "Loss:0.06395438313484192\n",
            "Loss:0.06097004935145378\n",
            "Loss:0.05845819041132927\n",
            "Loss:0.05635259300470352\n",
            "Loss:0.0545857772231102\n",
            "Loss:0.053148526698350906\n",
            "Epoch: 30 | Test: 0.053148526698350906 | Test loss : 0.14464017748832703\n",
            "OrderedDict([('weight', tensor([0.4512])), ('bias', tensor([0.3768]))])\n",
            "Loss:0.05181945487856865\n",
            "Loss:0.05069301277399063\n",
            "Loss:0.0498228520154953\n",
            "Loss:0.04895269125699997\n",
            "Loss:0.04819351062178612\n",
            "Loss:0.047531817108392715\n",
            "Loss:0.04692792519927025\n",
            "Loss:0.04642331600189209\n",
            "Loss:0.04591871052980423\n",
            "Loss:0.04543796554207802\n",
            "Epoch: 40 | Test: 0.04543796554207802 | Test loss : 0.11360953003168106\n",
            "OrderedDict([('weight', tensor([0.4748])), ('bias', tensor([0.3868]))])\n",
            "Loss:0.04503796249628067\n",
            "Loss:0.04463795945048332\n",
            "Loss:0.04423796385526657\n",
            "Loss:0.04383796453475952\n",
            "Loss:0.04343796148896217\n",
            "Loss:0.043074630200862885\n",
            "Loss:0.04272563382983208\n",
            "Loss:0.04237663000822067\n",
            "Loss:0.04202762991189957\n",
            "Loss:0.04167863354086876\n",
            "Epoch: 50 | Test: 0.04167863354086876 | Test loss : 0.09919948130846024\n",
            "OrderedDict([('weight', tensor([0.4938])), ('bias', tensor([0.3843]))])\n",
            "Loss:0.04132963344454765\n",
            "Loss:0.04098063334822655\n",
            "Loss:0.04063162952661514\n",
            "Loss:0.040282636880874634\n",
            "Loss:0.039933640509843826\n",
            "Loss:0.03958464413881302\n",
            "Loss:0.03923564404249191\n",
            "Loss:0.03888664394617081\n",
            "Loss:0.0385376438498497\n",
            "Loss:0.03818932920694351\n",
            "Epoch: 60 | Test: 0.03818932920694351 | Test loss : 0.08886633068323135\n",
            "OrderedDict([('weight', tensor([0.5116])), ('bias', tensor([0.3788]))])\n",
            "Loss:0.03785243630409241\n",
            "Loss:0.0375034399330616\n",
            "Loss:0.037164121866226196\n",
            "Loss:0.03681822493672371\n",
            "Loss:0.03647511452436447\n",
            "Loss:0.03613303601741791\n",
            "Loss:0.03578609973192215\n",
            "Loss:0.03544783592224121\n",
            "Loss:0.035098835825920105\n",
            "Loss:0.03476089984178543\n",
            "Epoch: 70 | Test: 0.03476089984178543 | Test loss : 0.0805937647819519\n",
            "OrderedDict([('weight', tensor([0.5288])), ('bias', tensor([0.3718]))])\n",
            "Loss:0.03441363573074341\n",
            "Loss:0.03407188132405281\n",
            "Loss:0.03372843936085701\n",
            "Loss:0.03338287025690079\n",
            "Loss:0.033043231815099716\n",
            "Loss:0.03269423171877861\n",
            "Loss:0.032357655465602875\n",
            "Loss:0.03200903534889221\n",
            "Loss:0.03166864812374115\n",
            "Loss:0.03132382780313492\n",
            "Epoch: 80 | Test: 0.03132382780313492 | Test loss : 0.07232122868299484\n",
            "OrderedDict([('weight', tensor([0.5459])), ('bias', tensor([0.3648]))])\n",
            "Loss:0.030979642644524574\n",
            "Loss:0.030638623982667923\n",
            "Loss:0.0302906334400177\n",
            "Loss:0.029953425750136375\n",
            "Loss:0.02960442565381527\n",
            "Loss:0.029265418648719788\n",
            "Loss:0.028919223695993423\n",
            "Loss:0.028576409444212914\n",
            "Loss:0.028234025463461876\n",
            "Loss:0.02788739837706089\n",
            "Epoch: 90 | Test: 0.02788739837706089 | Test loss : 0.06473556160926819\n",
            "OrderedDict([('weight', tensor([0.5629])), ('bias', tensor([0.3573]))])\n",
            "Loss:0.02754882536828518\n",
            "Loss:0.027199819684028625\n",
            "Loss:0.026862185448408127\n",
            "Loss:0.02651461586356163\n",
            "Loss:0.026173178106546402\n",
            "Loss:0.025829419493675232\n",
            "Loss:0.02548416517674923\n",
            "Loss:0.025144213810563087\n",
            "Loss:0.02479521557688713\n",
            "Loss:0.024458957836031914\n",
            "Epoch: 100 | Test: 0.024458957836031914 | Test loss : 0.05646304413676262\n",
            "OrderedDict([('weight', tensor([0.5800])), ('bias', tensor([0.3503]))])\n",
            "Loss:0.024110013619065285\n",
            "Loss:0.02376994863152504\n",
            "Loss:0.02342480979859829\n",
            "Loss:0.023080935701727867\n",
            "Loss:0.022739607840776443\n",
            "Loss:0.022391926497220993\n",
            "Loss:0.022054409608244896\n",
            "Loss:0.02170540764927864\n",
            "Loss:0.021366719156503677\n",
            "Loss:0.021020207554101944\n",
            "Epoch: 110 | Test: 0.021020207554101944 | Test loss : 0.04819049686193466\n",
            "OrderedDict([('weight', tensor([0.5972])), ('bias', tensor([0.3433]))])\n",
            "Loss:0.020677709951996803\n",
            "Loss:0.02033500373363495\n",
            "Loss:0.01998869702219963\n",
            "Loss:0.019649803638458252\n",
            "Loss:0.019300809130072594\n",
            "Loss:0.018963487818837166\n",
            "Loss:0.01861560344696045\n",
            "Loss:0.018274478614330292\n",
            "Loss:0.017930403351783752\n",
            "Loss:0.01758546568453312\n",
            "Epoch: 120 | Test: 0.01758546568453312 | Test loss : 0.04060482233762741\n",
            "OrderedDict([('weight', tensor([0.6141])), ('bias', tensor([0.3358]))])\n",
            "Loss:0.017245199531316757\n",
            "Loss:0.016896454617381096\n",
            "Loss:0.01656000316143036\n",
            "Loss:0.016210997477173805\n",
            "Loss:0.01587124727666378\n",
            "Loss:0.015525798313319683\n",
            "Loss:0.015182236209511757\n",
            "Loss:0.014840595424175262\n",
            "Loss:0.01449323259294033\n",
            "Loss:0.014155393466353416\n",
            "Epoch: 130 | Test: 0.014155393466353416 | Test loss : 0.03233227878808975\n",
            "OrderedDict([('weight', tensor([0.6313])), ('bias', tensor([0.3288]))])\n",
            "Loss:0.013806397095322609\n",
            "Loss:0.013468016870319843\n",
            "Loss:0.013121193274855614\n",
            "Loss:0.01277900766581297\n",
            "Loss:0.012435992248356342\n",
            "Loss:0.01208999752998352\n",
            "Loss:0.011750795878469944\n",
            "Loss:0.011401787400245667\n",
            "Loss:0.011064787395298481\n",
            "Loss:0.010716589167714119\n",
            "Epoch: 140 | Test: 0.010716589167714119 | Test loss : 0.024059748277068138\n",
            "OrderedDict([('weight', tensor([0.6485])), ('bias', tensor([0.3218]))])\n",
            "Loss:0.010375778190791607\n",
            "Loss:0.010031387209892273\n",
            "Loss:0.009686763398349285\n",
            "Loss:0.009346187114715576\n",
            "Loss:0.008997755125164986\n",
            "Loss:0.008660981431603432\n",
            "Loss:0.008311985060572624\n",
            "Loss:0.007972544990479946\n",
            "Loss:0.007626785431057215\n",
            "Loss:0.0072835334576666355\n",
            "Epoch: 150 | Test: 0.0072835334576666355 | Test loss : 0.016474086791276932\n",
            "OrderedDict([('weight', tensor([0.6654])), ('bias', tensor([0.3143]))])\n",
            "Loss:0.006941580679267645\n",
            "Loss:0.006594526115804911\n",
            "Loss:0.006256377790123224\n",
            "Loss:0.005907376762479544\n",
            "Loss:0.005569315515458584\n",
            "Loss:0.005222178064286709\n",
            "Loss:0.004880306776612997\n",
            "Loss:0.004536976106464863\n",
            "Loss:0.00419129803776741\n",
            "Loss:0.0038517764769494534\n",
            "Epoch: 160 | Test: 0.0038517764769494534 | Test loss : 0.008201557211577892\n",
            "OrderedDict([('weight', tensor([0.6826])), ('bias', tensor([0.3073]))])\n",
            "Loss:0.0035027749836444855\n",
            "Loss:0.0031660839449614286\n",
            "Loss:0.002817571861669421\n",
            "Loss:0.0024770735763013363\n",
            "Loss:0.0021323717664927244\n",
            "Loss:0.0017880648374557495\n",
            "Loss:0.0014518328243866563\n",
            "Loss:0.0011887758737429976\n",
            "Loss:0.0025885067880153656\n",
            "Loss:0.008932482451200485\n",
            "Epoch: 170 | Test: 0.008932482451200485 | Test loss : 0.005023092031478882\n",
            "OrderedDict([('weight', tensor([0.6951])), ('bias', tensor([0.2993]))])\n",
            "Loss:0.0025885067880153656\n",
            "Loss:0.008932482451200485\n",
            "Loss:0.0025885067880153656\n",
            "Loss:0.008932482451200485\n",
            "Loss:0.0025885067880153656\n",
            "Loss:0.008932482451200485\n",
            "Loss:0.0025885067880153656\n",
            "Loss:0.008932482451200485\n",
            "Loss:0.0025885067880153656\n",
            "Loss:0.008932482451200485\n",
            "Epoch: 180 | Test: 0.008932482451200485 | Test loss : 0.005023092031478882\n",
            "OrderedDict([('weight', tensor([0.6951])), ('bias', tensor([0.2993]))])\n",
            "Loss:0.0025885067880153656\n",
            "Loss:0.008932482451200485\n",
            "Loss:0.0025885067880153656\n",
            "Loss:0.008932482451200485\n",
            "Loss:0.0025885067880153656\n",
            "Loss:0.008932482451200485\n",
            "Loss:0.0025885067880153656\n",
            "Loss:0.008932482451200485\n",
            "Loss:0.0025885067880153656\n",
            "Loss:0.008932482451200485\n",
            "Epoch: 190 | Test: 0.008932482451200485 | Test loss : 0.005023092031478882\n",
            "OrderedDict([('weight', tensor([0.6951])), ('bias', tensor([0.2993]))])\n",
            "Loss:0.0025885067880153656\n",
            "Loss:0.008932482451200485\n",
            "Loss:0.0025885067880153656\n",
            "Loss:0.008932482451200485\n",
            "Loss:0.0025885067880153656\n",
            "Loss:0.008932482451200485\n",
            "Loss:0.0025885067880153656\n",
            "Loss:0.008932482451200485\n",
            "Loss:0.0025885067880153656\n"
          ]
        }
      ]
    },
    {
      "cell_type": "code",
      "source": [
        "with torch.inference_mode():\n",
        "  y_preds_new = model_0(X_test)"
      ],
      "metadata": {
        "id": "gUWEGNz2eoVI"
      },
      "execution_count": null,
      "outputs": []
    },
    {
      "cell_type": "code",
      "source": [
        "plot_prediction(predictions=y_preds_new);"
      ],
      "metadata": {
        "colab": {
          "base_uri": "https://localhost:8080/",
          "height": 599
        },
        "id": "FTvjaN8R8OgL",
        "outputId": "d858cc20-50f4-4850-d357-0ac59c70b041"
      },
      "execution_count": null,
      "outputs": [
        {
          "output_type": "display_data",
          "data": {
            "text/plain": [
              "<Figure size 1000x700 with 1 Axes>"
            ],
            "image/png": "[encoded data removed]"
          },
          "metadata": {}
        }
      ]
    },
    {
      "cell_type": "code",
      "source": [
        "#plot the loss curves\n",
        "plt.plot(epoch_count, np.array(torch.tensor(loss_values).numpy()), label = \"Train loss\") #set loss_values from tensor to a float32\n",
        "plt.plot(epoch_count, test_loss_values, label = \"Test loss\")\n",
        "plt. title(\"Training and test loss curves\")\n",
        "plt.ylabel(\"Loss\")\n",
        "plt.xlabel(\"Epochs\")\n",
        "plt.legend()"
      ],
      "metadata": {
        "id": "7Kj0hNkz_ngQ",
        "colab": {
          "base_uri": "https://localhost:8080/",
          "height": 490
        },
        "outputId": "6a7dd0c8-4199-4dcb-cde8-8eebdfe958cd"
      },
      "execution_count": null,
      "outputs": [
        {
          "output_type": "execute_result",
          "data": {
            "text/plain": [
              "<matplotlib.legend.Legend at 0x7bb679ed6290>"
            ]
          },
          "metadata": {},
          "execution_count": 18
        },
        {
          "output_type": "display_data",
          "data": {
            "text/plain": [
              "<Figure size 640x480 with 1 Axes>"
            ],
            "image/png": "[encoded data removed]"
          },
          "metadata": {}
        }
      ]
    },
    {
      "cell_type": "markdown",
      "source": [
        "## Saving model in Pytorch\n",
        "\n",
        "There are 3 mains ways to save and load models\n",
        "\n",
        "1. `torch.save()` - allows you save a PyTorch object in Python's pickle format\n",
        "2. `torch.load()` - allows you to load a saved Pytorch object\n",
        "3. `torch.nn.Module.load_state_dict()` - this allows to load a model's saved state dictionay"
      ],
      "metadata": {
        "id": "X7YuvqyDWWhu"
      }
    },
    {
      "cell_type": "code",
      "source": [
        "#saving our Pytorch model\n",
        "\n",
        "from pathlib import Path\n",
        "\n",
        "# 1. Create models directory\n",
        "MODEL_PATH = Path(\"models\")\n",
        "MODEL_PATH.mkdir(parents=True, exist_ok=True)\n",
        "\n",
        "#2. Create model save path\n",
        "MODEL_NAME = \"01_Pytorch _Workflow_model.pth\"\n",
        "MODEL_SAVE_PATH = MODEL_PATH / MODEL_NAME\n",
        "\n",
        "MODEL_SAVE_PATH\n",
        "\n",
        "#save the model state_dict\n",
        "torch.save(obj = model_0.state_dict(),\n",
        "           f = MODEL_SAVE_PATH )"
      ],
      "metadata": {
        "id": "ovJOS9gTX8bK"
      },
      "execution_count": null,
      "outputs": []
    },
    {
      "cell_type": "markdown",
      "source": [
        "## Loading a model in Pytorch\n",
        "\n",
        "Since we saved our models `state.dict()` rather than the entire mode, we'll create a new instance of our model class and load the saved `state.dict()` into that."
      ],
      "metadata": {
        "id": "M5mfxQ2CdpiJ"
      }
    },
    {
      "cell_type": "code",
      "source": [
        "model_0.state_dict()\n"
      ],
      "metadata": {
        "colab": {
          "base_uri": "https://localhost:8080/"
        },
        "id": "_YCEGNX3akyp",
        "outputId": "ee656855-89ae-426b-d24a-04dcebdf672f"
      },
      "execution_count": null,
      "outputs": [
        {
          "output_type": "execute_result",
          "data": {
            "text/plain": [
              "OrderedDict([('weight', tensor([0.6990])), ('bias', tensor([0.3093]))])"
            ]
          },
          "metadata": {},
          "execution_count": 20
        }
      ]
    },
    {
      "cell_type": "code",
      "source": [
        "# to load in a saved state_dict we have to instatiate a new instance of our model class\n",
        "loaded_model_0 = LinearRegressionModel()\n",
        "\n",
        "#load the saved state_dict of model_0\n",
        "loaded_model_0.load_state_dict(torch.load(f=MODEL_SAVE_PATH))"
      ],
      "metadata": {
        "colab": {
          "base_uri": "https://localhost:8080/"
        },
        "id": "TEzpuxZEd9xC",
        "outputId": "b8acd183-506c-4fc8-9d0f-00c7eb5974f3"
      },
      "execution_count": null,
      "outputs": [
        {
          "output_type": "execute_result",
          "data": {
            "text/plain": [
              "<All keys matched successfully>"
            ]
          },
          "metadata": {},
          "execution_count": 21
        }
      ]
    },
    {
      "cell_type": "code",
      "source": [
        "loaded_model_0.state_dict()"
      ],
      "metadata": {
        "colab": {
          "base_uri": "https://localhost:8080/"
        },
        "id": "SVFdhMeCe6p5",
        "outputId": "f058593a-e6e6-488f-9967-9caf6436a774"
      },
      "execution_count": null,
      "outputs": [
        {
          "output_type": "execute_result",
          "data": {
            "text/plain": [
              "OrderedDict([('weight', tensor([0.6990])), ('bias', tensor([0.3093]))])"
            ]
          },
          "metadata": {},
          "execution_count": 22
        }
      ]
    },
    {
      "cell_type": "code",
      "source": [
        "#make some predction with our loaded model\n",
        "loaded_model_0.eval()\n",
        "with torch.inference_mode():\n",
        "  loaded_model_preds = loaded_model_0(X_test)\n",
        "\n",
        "loaded_model_preds"
      ],
      "metadata": {
        "colab": {
          "base_uri": "https://localhost:8080/"
        },
        "id": "P8ewHJOwf0zO",
        "outputId": "efca0174-e8cb-4c02-87da-f04a4e905280"
      },
      "execution_count": null,
      "outputs": [
        {
          "output_type": "execute_result",
          "data": {
            "text/plain": [
              "tensor([[0.8685],\n",
              "        [0.8825],\n",
              "        [0.8965],\n",
              "        [0.9105],\n",
              "        [0.9245],\n",
              "        [0.9384],\n",
              "        [0.9524],\n",
              "        [0.9664],\n",
              "        [0.9804],\n",
              "        [0.9944]])"
            ]
          },
          "metadata": {},
          "execution_count": 23
        }
      ]
    },
    {
      "cell_type": "code",
      "source": [
        "#compare loaded model preds with original model\n",
        "loaded_model_preds == y_preds_new"
      ],
      "metadata": {
        "colab": {
          "base_uri": "https://localhost:8080/"
        },
        "id": "lp6bEVopgD9w",
        "outputId": "0b226b30-dcec-4c37-fac5-9b58da7237ef"
      },
      "execution_count": null,
      "outputs": [
        {
          "output_type": "execute_result",
          "data": {
            "text/plain": [
              "tensor([[True],\n",
              "        [True],\n",
              "        [True],\n",
              "        [True],\n",
              "        [True],\n",
              "        [True],\n",
              "        [True],\n",
              "        [True],\n",
              "        [True],\n",
              "        [True]])"
            ]
          },
          "metadata": {},
          "execution_count": 24
        }
      ]
    },
    {
      "cell_type": "markdown",
      "source": [
        "## 6.Putting it all together\n",
        "\n",
        "Let's go back through the steps above and see it all in the one place."
      ],
      "metadata": {
        "id": "E-Q775tIhQ-f"
      }
    },
    {
      "cell_type": "code",
      "source": [
        "#import Pytorh and matplotlib\n",
        "import torch\n",
        "from torch import nn\n",
        "import matplotlib.pyplot as plt\n",
        "\n",
        "#check PYtorch version\n",
        "torch.__version__\n"
      ],
      "metadata": {
        "colab": {
          "base_uri": "https://localhost:8080/",
          "height": 35
        },
        "id": "RMQKYzSngPYf",
        "outputId": "4401d253-f4b9-4f91-c15e-3582ac0204f6"
      },
      "execution_count": null,
      "outputs": [
        {
          "output_type": "execute_result",
          "data": {
            "text/plain": [
              "'2.3.0+cu121'"
            ],
            "application/vnd.google.colaboratory.intrinsic+json": {
              "type": "string"
            }
          },
          "metadata": {},
          "execution_count": 25
        }
      ]
    },
    {
      "cell_type": "markdown",
      "source": [
        "Creat device-agnostic code.\n",
        "\n",
        "This means if we've got access to a GPU, our code will use it (for potentially faster computing).\n",
        "\n",
        "If no GPU is available, the code will default to using CPU.\n"
      ],
      "metadata": {
        "id": "2k2plJomh_Mz"
      }
    },
    {
      "cell_type": "code",
      "source": [
        "#setup device agnostic code\n",
        "device = \"cuda\" if torch.cuda.is_available() else \"cpu\"\n",
        "print(f\"Using device: {device}\")\n"
      ],
      "metadata": {
        "colab": {
          "base_uri": "https://localhost:8080/"
        },
        "id": "t_GBcXPXh4_z",
        "outputId": "70670648-acf1-4aa9-d645-7c849cb46883"
      },
      "execution_count": null,
      "outputs": [
        {
          "output_type": "stream",
          "name": "stdout",
          "text": [
            "Using device: cpu\n"
          ]
        }
      ]
    },
    {
      "cell_type": "markdown",
      "source": [
        "##  Create some data using linear regression formula of y = weight * X + bias"
      ],
      "metadata": {
        "id": "X1Q4bZXUsSzg"
      }
    },
    {
      "cell_type": "code",
      "source": [
        "#create some data for the formula\n",
        "weight = 0.65\n",
        "bias =  0.35\n",
        "\n",
        "#create range values\n",
        "start = 0\n",
        "end = 1\n",
        "step = 0.02\n",
        "\n",
        "# create X and y (features and labels)\n",
        "X = torch.arange(start,end,step).unsqueeze(dim=1) # without unsqueeze, error will pop\n",
        "\n",
        "y = weight * X + bias\n",
        "X[:10] , y[:10]"
      ],
      "metadata": {
        "colab": {
          "base_uri": "https://localhost:8080/"
        },
        "id": "QC0ZsqGSsShN",
        "outputId": "20b4400e-71d5-4d9c-9ceb-6db9bbfda5ea"
      },
      "execution_count": null,
      "outputs": [
        {
          "output_type": "execute_result",
          "data": {
            "text/plain": [
              "(tensor([[0.0000],\n",
              "         [0.0200],\n",
              "         [0.0400],\n",
              "         [0.0600],\n",
              "         [0.0800],\n",
              "         [0.1000],\n",
              "         [0.1200],\n",
              "         [0.1400],\n",
              "         [0.1600],\n",
              "         [0.1800]]),\n",
              " tensor([[0.3500],\n",
              "         [0.3630],\n",
              "         [0.3760],\n",
              "         [0.3890],\n",
              "         [0.4020],\n",
              "         [0.4150],\n",
              "         [0.4280],\n",
              "         [0.4410],\n",
              "         [0.4540],\n",
              "         [0.4670]]))"
            ]
          },
          "metadata": {},
          "execution_count": 27
        }
      ]
    },
    {
      "cell_type": "code",
      "source": [
        "#split data\n",
        "train_split = int(0.8*len(X))\n",
        "X_train, y_train = X[:train_split], y[:train_split]\n",
        "X_test,y_test = X[train_split:], y[train_split:]\n",
        "len(X_train),len(y_train), len(X_test), len(y_test)"
      ],
      "metadata": {
        "id": "qW9gCqedieqs",
        "colab": {
          "base_uri": "https://localhost:8080/"
        },
        "outputId": "03aba3cd-4430-4244-a41f-8cf8a53bb7a5"
      },
      "execution_count": null,
      "outputs": [
        {
          "output_type": "execute_result",
          "data": {
            "text/plain": [
              "(40, 40, 10, 10)"
            ]
          },
          "metadata": {},
          "execution_count": 58
        }
      ]
    },
    {
      "cell_type": "code",
      "source": [
        "#plot the data\n",
        "plot_prediction(X_train,y_train,X_test,y_test)"
      ],
      "metadata": {
        "colab": {
          "base_uri": "https://localhost:8080/",
          "height": 599
        },
        "id": "4oz-oPxxzHp7",
        "outputId": "fc3545d0-6194-4687-f2af-c87bb06dcdd8"
      },
      "execution_count": null,
      "outputs": [
        {
          "output_type": "display_data",
          "data": {
            "text/plain": [
              "<Figure size 1000x700 with 1 Axes>"
            ],
            "image/png": "[encoded data removed]"
          },
          "metadata": {}
        }
      ]
    },
    {
      "cell_type": "markdown",
      "source": [
        "##6.2 Building Pytorch Linear Model\n"
      ],
      "metadata": {
        "id": "GR_XoTa_F-LC"
      }
    },
    {
      "cell_type": "code",
      "source": [
        "#Create linear model by sublcassing nn.Modlue\n",
        "class LinearRegressionModelV2(nn.Module):\n",
        "  def __init__(self):\n",
        "    super().__init__()\n",
        "    #use nn.linear() for creating model paramters / also called: linear transform, probing layer, fully connected layer\n",
        "    self.linear_layer = nn.Linear(in_features=1,\n",
        "                                  out_features=1)\n",
        "\n",
        "  def forward(self, x: torch.Tensor) -> torch.Tensor:\n",
        "    return self.linear_layer(x)\n",
        "\n",
        "\n",
        "#set the manual seed\n",
        "torch.manual_seed(42)\n",
        "model_1 = LinearRegressionModelV2()\n",
        "model_1, model_1.state_dict()\n"
      ],
      "metadata": {
        "colab": {
          "base_uri": "https://localhost:8080/"
        },
        "id": "AbFiFhOBFsdq",
        "outputId": "7afbd1e9-b8ed-4a3a-91b3-403d0d6b53c1"
      },
      "execution_count": null,
      "outputs": [
        {
          "output_type": "execute_result",
          "data": {
            "text/plain": [
              "(LinearRegressionModelV2(\n",
              "   (linear_layer): Linear(in_features=1, out_features=1, bias=True)\n",
              " ),\n",
              " OrderedDict([('linear_layer.weight', tensor([[0.7645]])),\n",
              "              ('linear_layer.bias', tensor([0.8300]))]))"
            ]
          },
          "metadata": {},
          "execution_count": 60
        }
      ]
    },
    {
      "cell_type": "code",
      "source": [
        "X_train[:5], y_train[:5]"
      ],
      "metadata": {
        "colab": {
          "base_uri": "https://localhost:8080/"
        },
        "id": "NAvhAOfJGtY4",
        "outputId": "2fa20315-8d43-4f7b-d3b8-8a22db55d017"
      },
      "execution_count": null,
      "outputs": [
        {
          "output_type": "execute_result",
          "data": {
            "text/plain": [
              "(tensor([[0.0000],\n",
              "         [0.0200],\n",
              "         [0.0400],\n",
              "         [0.0600],\n",
              "         [0.0800]]),\n",
              " tensor([[0.3500],\n",
              "         [0.3630],\n",
              "         [0.3760],\n",
              "         [0.3890],\n",
              "         [0.4020]]))"
            ]
          },
          "metadata": {},
          "execution_count": 61
        }
      ]
    },
    {
      "cell_type": "code",
      "source": [
        "# set the model to use target device\n",
        "model_1.to(device)\n",
        "next(model_1.parameters()).device\n"
      ],
      "metadata": {
        "colab": {
          "base_uri": "https://localhost:8080/"
        },
        "id": "dDiiAabaGzAo",
        "outputId": "52fd9086-7c35-482b-bd11-b19d5859bf9c"
      },
      "execution_count": null,
      "outputs": [
        {
          "output_type": "execute_result",
          "data": {
            "text/plain": [
              "device(type='cpu')"
            ]
          },
          "metadata": {},
          "execution_count": 62
        }
      ]
    },
    {
      "cell_type": "markdown",
      "source": [
        "##6.3 Training\n",
        "\n",
        "For training we need:\n",
        "* loss function\n",
        "* optimizer\n",
        "* training loop\n",
        "* testing loop"
      ],
      "metadata": {
        "id": "i113SEqRJC-R"
      }
    },
    {
      "cell_type": "code",
      "source": [
        "#setup loss function\n",
        "loss_fn = nn.L1Loss() #same as MAE\n",
        "\n",
        "#setup optimizer\n",
        "optimizer = torch.optim.SGD(params= model_1.parameters(),\n",
        "                            lr=0.01)"
      ],
      "metadata": {
        "id": "YWMT3Y4yJAQD"
      },
      "execution_count": null,
      "outputs": []
    },
    {
      "cell_type": "code",
      "source": [
        "# Let's write a training loop\n",
        "torch.manual_seed(42)\n",
        "\n",
        "epochs = 200\n",
        "\n",
        "#put data in right device\n",
        "X_train = X_train.to(device)\n",
        "y_train = y_train.to(device)\n",
        "X_test = X_test.to(device)\n",
        "y_test = y_test.to(device)\n",
        "\n",
        "\n",
        "for epoch in range(epochs):\n",
        "\n",
        "  model_1.train()\n",
        "\n",
        "  #1. Forward pass\n",
        "  y_pred = model_1(X_train)\n",
        "\n",
        "  #2. Calculate loss\n",
        "  loss = loss_fn(y_pred, y_train)\n",
        "\n",
        "  #3. optimizer zero grad\n",
        "  optimizer.zero_grad()\n",
        "\n",
        "  #4.Perform backpropagation\n",
        "  loss.backward()\n",
        "\n",
        "  #5. optimizer step\n",
        "  optimizer.step()\n",
        "\n",
        "  #testing\n",
        "  model_1.eval()\n",
        "  with torch.inference_mode():\n",
        "    test_pred = model_1(X_test)\n",
        "\n",
        "    test_loss = loss_fn(test_pred,y_test)\n",
        "\n",
        "  #print whats happening\n",
        "  if epoch % 10 == 0:\n",
        "    print(f\"Epoch: {epoch} | Loss:{loss} | test loss: {test_loss}\")\n",
        "\n"
      ],
      "metadata": {
        "colab": {
          "base_uri": "https://localhost:8080/"
        },
        "id": "IbVujpcXJrDl",
        "outputId": "c6899fad-16ff-4e3d-e843-0b3e897f2be3"
      },
      "execution_count": null,
      "outputs": [
        {
          "output_type": "stream",
          "name": "stdout",
          "text": [
            "Epoch: 0 | Loss:0.5246779322624207 | test loss: 0.5684762001037598\n",
            "Epoch: 10 | Loss:0.4094680845737457 | test loss: 0.4337664246559143\n",
            "Epoch: 20 | Loss:0.2942582070827484 | test loss: 0.2990565896034241\n",
            "Epoch: 30 | Loss:0.1790483295917511 | test loss: 0.16434675455093384\n",
            "Epoch: 40 | Loss:0.06383846700191498 | test loss: 0.029636919498443604\n",
            "Epoch: 50 | Loss:0.010777203366160393 | test loss: 0.024112392216920853\n",
            "Epoch: 60 | Loss:0.007348141632974148 | test loss: 0.01652672328054905\n",
            "Epoch: 70 | Loss:0.003912393935024738 | test loss: 0.008254188112914562\n",
            "Epoch: 80 | Loss:0.008415423333644867 | test loss: 0.005816042423248291\n",
            "Epoch: 90 | Loss:0.008415423333644867 | test loss: 0.005816042423248291\n",
            "Epoch: 100 | Loss:0.008415423333644867 | test loss: 0.005816042423248291\n",
            "Epoch: 110 | Loss:0.008415423333644867 | test loss: 0.005816042423248291\n",
            "Epoch: 120 | Loss:0.008415423333644867 | test loss: 0.005816042423248291\n",
            "Epoch: 130 | Loss:0.008415423333644867 | test loss: 0.005816042423248291\n",
            "Epoch: 140 | Loss:0.008415423333644867 | test loss: 0.005816042423248291\n",
            "Epoch: 150 | Loss:0.008415423333644867 | test loss: 0.005816042423248291\n",
            "Epoch: 160 | Loss:0.008415423333644867 | test loss: 0.005816042423248291\n",
            "Epoch: 170 | Loss:0.008415423333644867 | test loss: 0.005816042423248291\n",
            "Epoch: 180 | Loss:0.008415423333644867 | test loss: 0.005816042423248291\n",
            "Epoch: 190 | Loss:0.008415423333644867 | test loss: 0.005816042423248291\n"
          ]
        }
      ]
    },
    {
      "cell_type": "code",
      "source": [
        "model_1.state_dict()"
      ],
      "metadata": {
        "colab": {
          "base_uri": "https://localhost:8080/"
        },
        "id": "3RIBKCHFKznj",
        "outputId": "16d169fd-a995-41b4-e0f1-d957d67d6caa"
      },
      "execution_count": null,
      "outputs": [
        {
          "output_type": "execute_result",
          "data": {
            "text/plain": [
              "OrderedDict([('linear_layer.weight', tensor([[0.6485]])),\n",
              "             ('linear_layer.bias', tensor([0.3590]))])"
            ]
          },
          "metadata": {},
          "execution_count": 65
        }
      ]
    },
    {
      "cell_type": "markdown",
      "source": [
        "###6.4 making and evaulating prediction\n"
      ],
      "metadata": {
        "id": "ZV9SNXTRXRwe"
      }
    },
    {
      "cell_type": "code",
      "source": [
        "#Turn model into evaluation mode\n",
        "model_1.eval()\n",
        "\n",
        "#make prediction on the test data\n",
        "with torch.inference_mode():\n",
        "  y_pred_1 = model_1(X_test)\n",
        "\n",
        "y_pred_1"
      ],
      "metadata": {
        "colab": {
          "base_uri": "https://localhost:8080/"
        },
        "id": "-O2IDpZ7Vgf3",
        "outputId": "a81b6058-cf69-4aa2-87e0-4314ec0fcd65"
      },
      "execution_count": null,
      "outputs": [
        {
          "output_type": "execute_result",
          "data": {
            "text/plain": [
              "tensor([[0.8778],\n",
              "        [0.8908],\n",
              "        [0.9037],\n",
              "        [0.9167],\n",
              "        [0.9297],\n",
              "        [0.9426],\n",
              "        [0.9556],\n",
              "        [0.9686],\n",
              "        [0.9815],\n",
              "        [0.9945]])"
            ]
          },
          "metadata": {},
          "execution_count": 66
        }
      ]
    },
    {
      "cell_type": "code",
      "source": [
        "plot_prediction(predictions=y_pred_1);"
      ],
      "metadata": {
        "colab": {
          "base_uri": "https://localhost:8080/",
          "height": 599
        },
        "id": "7taNokdmV4ds",
        "outputId": "b0b25939-f79c-42fe-d85f-e6179617ab31"
      },
      "execution_count": null,
      "outputs": [
        {
          "output_type": "display_data",
          "data": {
            "text/plain": [
              "<Figure size 1000x700 with 1 Axes>"
            ],
            "image/png": "[encoded data removed]"
          },
          "metadata": {}
        }
      ]
    },
    {
      "cell_type": "markdown",
      "source": [
        "### 6.5 Saving & loading a training model\n"
      ],
      "metadata": {
        "id": "E-s4Hea7azH1"
      }
    },
    {
      "cell_type": "code",
      "source": [
        "MODEL_PATH = Path(\"models\")\n",
        "MODEL_PATH.mkdir(parents = True,\n",
        "                 exist_ok=True)\n",
        "\n",
        "#2 create model save path\n",
        "Model_name = \"01_pytorch_workflow_model_1.pth\"\n",
        "MODEL_SAVE_PATH = MODEL_PATH / MODEL_NAME\n",
        "\n",
        "#3. save model state dict\n",
        "print(f\"Saving model to: {MODEL_SAVE_PATH}\")\n",
        "torch.save(obj=model_1.state_dict(),\n",
        "           f=MODEL_SAVE_PATH)"
      ],
      "metadata": {
        "colab": {
          "base_uri": "https://localhost:8080/"
        },
        "id": "osoh9rERWcdZ",
        "outputId": "54203ef2-1cf5-4c7d-e455-74515af0c8a0"
      },
      "execution_count": null,
      "outputs": [
        {
          "output_type": "stream",
          "name": "stdout",
          "text": [
            "Saving model to: models/01_Pytorch _Workflow_model.pth\n"
          ]
        }
      ]
    },
    {
      "cell_type": "code",
      "source": [
        "model_1.state_dict()"
      ],
      "metadata": {
        "colab": {
          "base_uri": "https://localhost:8080/"
        },
        "id": "ocOKBVZ3bT-S",
        "outputId": "a2aed9f6-5ff0-4167-f2a4-d6043deb59b5"
      },
      "execution_count": null,
      "outputs": [
        {
          "output_type": "execute_result",
          "data": {
            "text/plain": [
              "OrderedDict([('linear_layer.weight', tensor([[0.6485]])),\n",
              "             ('linear_layer.bias', tensor([0.3590]))])"
            ]
          },
          "metadata": {},
          "execution_count": 73
        }
      ]
    },
    {
      "cell_type": "code",
      "source": [
        "#Load a Pytorch\n",
        "loaded_model_1 = LinearRegressionModelV2()\n",
        "\n",
        "#load the saved model_1 state dict\n",
        "\n",
        "loaded_model_1.load_state_dict(torch.load(MODEL_SAVE_PATH))\n",
        "\n",
        "#put loaded model to device\n",
        "loaded_model_1.to(device)"
      ],
      "metadata": {
        "colab": {
          "base_uri": "https://localhost:8080/"
        },
        "id": "e7-WWVWzcFfy",
        "outputId": "4014acd8-a0e9-41be-f069-eed00bdebe99"
      },
      "execution_count": null,
      "outputs": [
        {
          "output_type": "execute_result",
          "data": {
            "text/plain": [
              "LinearRegressionModelV2(\n",
              "  (linear_layer): Linear(in_features=1, out_features=1, bias=True)\n",
              ")"
            ]
          },
          "metadata": {},
          "execution_count": 75
        }
      ]
    },
    {
      "cell_type": "code",
      "source": [
        "next(loaded_model_1.parameters()).device"
      ],
      "metadata": {
        "colab": {
          "base_uri": "https://localhost:8080/"
        },
        "id": "gOJrAx9JcWOg",
        "outputId": "082f2a75-acbb-41de-d95f-4be060764389"
      },
      "execution_count": null,
      "outputs": [
        {
          "output_type": "execute_result",
          "data": {
            "text/plain": [
              "device(type='cpu')"
            ]
          },
          "metadata": {},
          "execution_count": 77
        }
      ]
    },
    {
      "cell_type": "code",
      "source": [
        "loaded_model_1.state_dict()"
      ],
      "metadata": {
        "colab": {
          "base_uri": "https://localhost:8080/"
        },
        "id": "I_hgGj23cui4",
        "outputId": "7a97587f-9e36-4a22-c545-7548305da538"
      },
      "execution_count": null,
      "outputs": [
        {
          "output_type": "execute_result",
          "data": {
            "text/plain": [
              "OrderedDict([('linear_layer.weight', tensor([[0.6485]])),\n",
              "             ('linear_layer.bias', tensor([0.3590]))])"
            ]
          },
          "metadata": {},
          "execution_count": 78
        }
      ]
    },
    {
      "cell_type": "code",
      "source": [
        "#evaluate loaded model\n",
        "loaded_model_1.eval()\n",
        "with torch.inference_mode():\n",
        "  loaded_model_1_preds = loaded_model_1(X_test)\n",
        "\n",
        "y_pred_1 ==loaded_model_1_preds"
      ],
      "metadata": {
        "colab": {
          "base_uri": "https://localhost:8080/"
        },
        "id": "7pcBsococ35O",
        "outputId": "12ccdc1e-c208-4748-837b-ee3f23deaa8a"
      },
      "execution_count": null,
      "outputs": [
        {
          "output_type": "execute_result",
          "data": {
            "text/plain": [
              "tensor([[True],\n",
              "        [True],\n",
              "        [True],\n",
              "        [True],\n",
              "        [True],\n",
              "        [True],\n",
              "        [True],\n",
              "        [True],\n",
              "        [True],\n",
              "        [True]])"
            ]
          },
          "metadata": {},
          "execution_count": 82
        }
      ]
    },
    {
      "cell_type": "code",
      "source": [],
      "metadata": {
        "id": "a5M1gOFgdZ_Y"
      },
      "execution_count": null,
      "outputs": []
    }
  ]
}